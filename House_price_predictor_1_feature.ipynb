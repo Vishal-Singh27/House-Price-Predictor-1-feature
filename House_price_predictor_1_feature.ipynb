{
 "cells": [
  {
   "metadata": {},
   "cell_type": "markdown",
   "source": [
    "# House Predictor (One feature)\n",
    "This is a basic project which can predict house prices using linear regression"
   ],
   "id": "89cffb12ef2b7209"
  },
  {
   "metadata": {},
   "cell_type": "markdown",
   "source": "First lets import the libraries",
   "id": "455e46814510ded9"
  },
  {
   "metadata": {
    "ExecuteTime": {
     "end_time": "2025-04-09T16:20:42.339677Z",
     "start_time": "2025-04-09T16:20:42.327519Z"
    }
   },
   "cell_type": "code",
   "source": [
    "import matplotlib.pyplot as plt\n",
    "import numpy as np\n",
    "import pandas as pd"
   ],
   "id": "649eba0492a5124d",
   "outputs": [],
   "execution_count": 75
  },
  {
   "metadata": {},
   "cell_type": "markdown",
   "source": "Making the cost function",
   "id": "28a6935496e9891a"
  },
  {
   "metadata": {
    "ExecuteTime": {
     "end_time": "2025-04-09T16:20:42.351295Z",
     "start_time": "2025-04-09T16:20:42.347876Z"
    }
   },
   "cell_type": "code",
   "source": [
    "def compute_cost(x, y, w, b):\n",
    "    cost = 0\n",
    "    m = x.shape[0]\n",
    "\n",
    "    for i in range(m):\n",
    "        cost += ((((w * x) + b) - y[i]) ** 2)\n",
    "\n",
    "    return cost / (2 * m)"
   ],
   "id": "1584683311e00f7a",
   "outputs": [],
   "execution_count": 76
  },
  {
   "metadata": {},
   "cell_type": "markdown",
   "source": "Gradient Descent time!!",
   "id": "ed0e449a787b245f"
  },
  {
   "metadata": {
    "ExecuteTime": {
     "end_time": "2025-04-09T16:20:42.380562Z",
     "start_time": "2025-04-09T16:20:42.378069Z"
    }
   },
   "cell_type": "code",
   "source": [
    "def gradient_descent(x, y, w=0, b=0, alpha=0.01, iterations=1000):\n",
    "    m = x.shape[0]\n",
    "\n",
    "    for iteration in range(iterations):\n",
    "        dj_dw = 0\n",
    "        dj_db = 0\n",
    "        # Computing gradients\n",
    "        for i in range(m):\n",
    "            cost = ((w * x[i]) + b) - y[i]\n",
    "\n",
    "            dj_dw += cost * x[i]\n",
    "            dj_db += cost\n",
    "        dj_dw, dj_db = dj_dw / m, dj_db / m\n",
    "\n",
    "        w -= (alpha * dj_dw)\n",
    "        b -= (alpha * dj_db)\n",
    "\n",
    "    return w, b"
   ],
   "id": "f5699037e46f8628",
   "outputs": [],
   "execution_count": 77
  },
  {
   "metadata": {},
   "cell_type": "markdown",
   "source": "Now lets code the data we gonna train the model with",
   "id": "fb7255e192cb5982"
  },
  {
   "metadata": {
    "ExecuteTime": {
     "end_time": "2025-04-09T16:20:42.401664Z",
     "start_time": "2025-04-09T16:20:42.395155Z"
    }
   },
   "cell_type": "code",
   "source": [
    "data = {\n",
    "    \"House Size\": [10, 20, 30, 40, 70],\n",
    "    \"price\": [100, 200, 350, 600, 1000]\n",
    "}\n",
    "\n",
    "df = pd.DataFrame(data)\n",
    "x = np.array(df['House Size'])\n",
    "y = np.array(df['price'])\n",
    "\n",
    "print(x, y)"
   ],
   "id": "a90903d60db213d3",
   "outputs": [
    {
     "name": "stdout",
     "output_type": "stream",
     "text": [
      "[10 20 30 40 70] [ 100  200  350  600 1000]\n"
     ]
    }
   ],
   "execution_count": 78
  },
  {
   "metadata": {},
   "cell_type": "markdown",
   "source": "Now lets train the model with the data",
   "id": "8dcf0b26f018816"
  },
  {
   "metadata": {
    "ExecuteTime": {
     "end_time": "2025-04-09T16:20:42.442732Z",
     "start_time": "2025-04-09T16:20:42.414555Z"
    }
   },
   "cell_type": "code",
   "source": [
    "w, b = gradient_descent(x, y, 0, 0, 0.00001, 10000)\n",
    "print(w, b)"
   ],
   "id": "a24245fccb2306a7",
   "outputs": [
    {
     "name": "stdout",
     "output_type": "stream",
     "text": [
      "13.899362697107886 -1.8070621767865647\n"
     ]
    }
   ],
   "execution_count": 79
  },
  {
   "metadata": {},
   "cell_type": "markdown",
   "source": "Now let's visualize the models predictions",
   "id": "9a7c96601a30a9b1"
  },
  {
   "metadata": {
    "ExecuteTime": {
     "end_time": "2025-04-09T16:20:42.637008Z",
     "start_time": "2025-04-09T16:20:42.517289Z"
    }
   },
   "cell_type": "code",
   "source": [
    "m = x.shape[0]\n",
    "\n",
    "y_pred = (w * x) + b\n",
    "\n",
    "plt.scatter(x, y)\n",
    "plt.xlabel(\"House size in 1000's of sq ft\")\n",
    "plt.ylabel(\"Price in 1000's\")\n",
    "plt.plot(x, y_pred)"
   ],
   "id": "b98111be54d3270",
   "outputs": [
    {
     "data": {
      "text/plain": [
       "[<matplotlib.lines.Line2D at 0x1125c4050>]"
      ]
     },
     "execution_count": 80,
     "metadata": {},
     "output_type": "execute_result"
    },
    {
     "data": {
      "text/plain": [
       "<Figure size 640x480 with 1 Axes>"
      ],
      "image/png": "[encoded data removed]"
     },
     "metadata": {},
     "output_type": "display_data"
    }
   ],
   "execution_count": 80
  }
 ],
 "metadata": {
  "kernelspec": {
   "name": "python3",
   "language": "python",
   "display_name": "Python 3 (ipykernel)"
  }
 },
 "nbformat": 5,
 "nbformat_minor": 9
}
